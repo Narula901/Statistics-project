{
 "cells": [
  {
   "cell_type": "markdown",
   "metadata": {},
   "source": [
    "### Inferences About Population variances "
   ]
  },
  {
   "cell_type": "markdown",
   "metadata": {},
   "source": [
    "The Fidelity Growth & Income mutual fund received a three-star, or neutral, rating from Morningstar. \n",
    "Shown here are the quarterly percentage returns for the five-year period from 2001 to 2005 (Morningstar Funds 500, 2006).\n",
    "\n",
    "a. Compute the mean, variance, and standard deviation for the quarterly returns.\n",
    "\n",
    "b. Financial analysts often use standard deviation as a measure of risk for stocks and mutual funds. Develop a 95% confidence interval for the population standard deviation\n",
    "of quarterly returns for the Fidelity Growth & Income mutual fund."
   ]
  },
  {
   "cell_type": "code",
   "execution_count": 35,
   "metadata": {},
   "outputs": [
    {
     "data": {
      "text/html": [
       "<div>\n",
       "<style scoped>\n",
       "    .dataframe tbody tr th:only-of-type {\n",
       "        vertical-align: middle;\n",
       "    }\n",
       "\n",
       "    .dataframe tbody tr th {\n",
       "        vertical-align: top;\n",
       "    }\n",
       "\n",
       "    .dataframe thead th {\n",
       "        text-align: right;\n",
       "    }\n",
       "</style>\n",
       "<table border=\"1\" class=\"dataframe\">\n",
       "  <thead>\n",
       "    <tr style=\"text-align: right;\">\n",
       "      <th></th>\n",
       "      <th>1st Quarter</th>\n",
       "      <th>2nd Quarter</th>\n",
       "      <th>3rd Quarter</th>\n",
       "      <th>4th Quarter</th>\n",
       "    </tr>\n",
       "  </thead>\n",
       "  <tbody>\n",
       "    <tr>\n",
       "      <th>2001</th>\n",
       "      <td>-10.91</td>\n",
       "      <td>5.80</td>\n",
       "      <td>-9.64</td>\n",
       "      <td>6.45</td>\n",
       "    </tr>\n",
       "    <tr>\n",
       "      <th>2002</th>\n",
       "      <td>0.83</td>\n",
       "      <td>-10.48</td>\n",
       "      <td>-14.03</td>\n",
       "      <td>5.58</td>\n",
       "    </tr>\n",
       "    <tr>\n",
       "      <th>2003</th>\n",
       "      <td>-2.27</td>\n",
       "      <td>10.43</td>\n",
       "      <td>0.85</td>\n",
       "      <td>9.33</td>\n",
       "    </tr>\n",
       "    <tr>\n",
       "      <th>2004</th>\n",
       "      <td>1.34</td>\n",
       "      <td>1.11</td>\n",
       "      <td>-0.77</td>\n",
       "      <td>8.03</td>\n",
       "    </tr>\n",
       "    <tr>\n",
       "      <th>2005</th>\n",
       "      <td>-2.46</td>\n",
       "      <td>0.89</td>\n",
       "      <td>2.55</td>\n",
       "      <td>1.78</td>\n",
       "    </tr>\n",
       "  </tbody>\n",
       "</table>\n",
       "</div>"
      ],
      "text/plain": [
       "      1st Quarter   2nd Quarter   3rd Quarter  4th Quarter\n",
       "2001        -10.91          5.80        -9.64         6.45\n",
       "2002          0.83        -10.48       -14.03         5.58\n",
       "2003         -2.27         10.43         0.85         9.33\n",
       "2004          1.34          1.11        -0.77         8.03\n",
       "2005         -2.46          0.89         2.55         1.78"
      ]
     },
     "execution_count": 35,
     "metadata": {},
     "output_type": "execute_result"
    }
   ],
   "source": [
    "import pandas as pd\n",
    "import numpy as np\n",
    "from scipy import stats\n",
    "Financial_Data = pd.read_csv(\"D:\\Data for Preprocessing\\Financial Data .csv\", index_col=0)\n",
    "Financial_Data"
   ]
  },
  {
   "cell_type": "code",
   "execution_count": 36,
   "metadata": {},
   "outputs": [
    {
     "name": "stdout",
     "output_type": "stream",
     "text": [
      "Mean Quarterly Returns:\n",
      "1st Quarter    -2.694\n",
      "2nd Quarter     1.550\n",
      "3rd Quarter    -4.208\n",
      "4th Quarter     6.234\n",
      "dtype: float64\n",
      "\n",
      "Variance of Quarterly Returns:\n",
      "1st Quarter     24.10723\n",
      "2nd Quarter     60.56675\n",
      "3rd Quarter     52.26302\n",
      "4th Quarter      8.28083\n",
      "dtype: float64\n",
      "\n",
      "Standard Deviation of Quarterly Returns:\n",
      "1st Quarter     4.909911\n",
      "2nd Quarter     7.782464\n",
      "3rd Quarter     7.229317\n",
      "4th Quarter     2.877643\n",
      "dtype: float64\n",
      "\n",
      "95% Confidence Interval for Population Standard Deviation\n",
      "Lower Bound: 1st Quarter     2.941691\n",
      "2nd Quarter     4.662732\n",
      "3rd Quarter     4.331323\n",
      "4th Quarter     1.724091\n",
      "dtype: float64\n",
      "Upper Bound: 1st Quarter     14.108904\n",
      "2nd Quarter     22.363344\n",
      "3rd Quarter     20.773844\n",
      "4th Quarter      8.269068\n",
      "dtype: float64\n"
     ]
    }
   ],
   "source": [
    "# Calculate mean, variance, and standard deviation for the quartely returns\n",
    "mean = Financial_Data.mean() \n",
    "variance = Financial_Data.var(ddof = 1)  # set ddof = 1 for sample variance\n",
    "standard_deviation = Financial_Data.std(ddof=1)# set ddof = 1 for standard deviation\n",
    "\n",
    "# Display the results \n",
    "print(\"Mean Quarterly Returns:\")\n",
    "print(mean)\n",
    "\n",
    "print(\"\\nVariance of Quarterly Returns:\")\n",
    "print(variance)\n",
    "\n",
    "print(\"\\nStandard Deviation of Quarterly Returns:\")\n",
    "print(standard_deviation)\n",
    "\n",
    "# Calculate the 95% confidence interval for the population standard deviation\n",
    "confidence_level = 0.95\n",
    "sample_size = Financial_Data.shape[0] \n",
    "degree_of_freedom = sample_size - 1  # Degree of Freedom for sample variance\n",
    "\n",
    "# use the chi-square distribution to calculate the confidence interval\n",
    "lower_bound = np.sqrt((degree_of_freedom * variance) / stats.chi2.ppf((1 + confidence_level) / 2, df = degree_of_freedom))\n",
    "upper_bound = np.sqrt((degree_of_freedom * variance) / stats.chi2.ppf((1 - confidence_level) / 2, df = degree_of_freedom))\n",
    "\n",
    "# Display the 95% confidence interval for the population standard deviation \n",
    "print(\"\\n95% Confidence Interval for Population Standard Deviation\")\n",
    "print(\"Lower Bound:\", lower_bound)\n",
    "print(\"Upper Bound:\", upper_bound)"
   ]
  },
  {
   "cell_type": "markdown",
   "metadata": {},
   "source": [
    "    Ans (a) Mean, variance, and standard deviation for the quartely returns\n",
    "    \n",
    "            Mean Quarterly Returns:\n",
    "            1st Quarter    -2.694\n",
    "            2nd Quarter     1.550\n",
    "            3rd Quarter    -4.208\n",
    "            4th Quarter     6.234\n",
    "\n",
    "            Variance of Quarterly Returns:\n",
    "            1st Quarter     24.10723\n",
    "            2nd Quarter     60.56675\n",
    "            3rd Quarter     52.26302\n",
    "            4th Quarter      8.28083\n",
    "\n",
    "            Standard Deviation of Quarterly Returns:\n",
    "            1st Quarter     4.909911\n",
    "            2nd Quarter     7.782464\n",
    "            3rd Quarter     7.229317\n",
    "            4th Quarter     2.877643"
   ]
  },
  {
   "cell_type": "markdown",
   "metadata": {},
   "source": [
    "    Ans (b) 95% Confidence Interval for Population Standard Deviation\n",
    "\n",
    "            Lower Bound:    1st Quarter     2.941691\n",
    "                            2nd Quarter     4.662732\n",
    "                            3rd Quarter     4.331323\n",
    "                            4th Quarter     1.724091\n",
    "            \n",
    "            Upper Bound:    1st Quarter     14.108904\n",
    "                            2nd Quarter     22.363344\n",
    "                            3rd Quarter     20.773844\n",
    "                            4th Quarter      8.269068\n",
    "            "
   ]
  },
  {
   "cell_type": "code",
   "execution_count": null,
   "metadata": {},
   "outputs": [],
   "source": []
  },
  {
   "cell_type": "markdown",
   "metadata": {},
   "source": [
    "### Inferences About Two Population variances "
   ]
  },
  {
   "cell_type": "markdown",
   "metadata": {},
   "source": [
    "Media Metrix and Jupiter Communications gathered data on the time adults and the time teens spend online during a month (USA Today, September 14, 2000). The study concluded that on average, adults spend more time online than teens. Assume that a follow-up study sampled 26 adults and 30 teens. The standard deviations of the time online during a month were 94 minutes and 58 minutes, respectively. \n",
    "\n",
    "Do the sample results support the conclusion that adults have a greater variance in online time than teens? Use α = .01. What is the p-value?"
   ]
  },
  {
   "cell_type": "markdown",
   "metadata": {},
   "source": [
    "    Ans :\n",
    "         Null Hypothesis (H0): The variance of online time for adults is equal to or less than the variance of online time for teens.\n",
    "         \n",
    "         Alternative Hypothesis (H1): The variance of online time for adults is greater than the variance of online time for teens."
   ]
  },
  {
   "cell_type": "code",
   "execution_count": 39,
   "metadata": {},
   "outputs": [
    {
     "name": "stdout",
     "output_type": "stream",
     "text": [
      "F_statistic: 2.6266349583828776\n",
      "P_value: 0.006733349965066915\n"
     ]
    }
   ],
   "source": [
    "# Sample data\n",
    "n_adults = 26\n",
    "n_teens = 30\n",
    "\n",
    "variance_adults = 94**2\n",
    "variance_teens = 58**2\n",
    "\n",
    "# Calculating the F-statistic\n",
    "F_statistic = variance_adults/variance_teens\n",
    "\n",
    "# Degree of freedom\n",
    "df1 = n_adults - 1\n",
    "df2 = n_teens - 1\n",
    "\n",
    "# Calculating the p-value\n",
    "p_value = 1- stats.f.cdf(F_statistic, df1, df2)\n",
    "\n",
    "print(\"F_statistic:\", F_statistic)\n",
    "print(\"P_value:\", p_value)"
   ]
  },
  {
   "cell_type": "markdown",
   "metadata": {},
   "source": [
    "    To conclude, \n",
    "    p-value is less than α (0.01 in this case), we reject the null hypothesis in favor of the alternative hypothesis, which means there is evidence that adults \n",
    "    have a greater variance in online time than teens."
   ]
  },
  {
   "cell_type": "markdown",
   "metadata": {},
   "source": []
  }
 ],
 "metadata": {
  "kernelspec": {
   "display_name": "base",
   "language": "python",
   "name": "python3"
  },
  "language_info": {
   "codemirror_mode": {
    "name": "ipython",
    "version": 3
   },
   "file_extension": ".py",
   "mimetype": "text/x-python",
   "name": "python",
   "nbconvert_exporter": "python",
   "pygments_lexer": "ipython3",
   "version": "3.9.7"
  },
  "orig_nbformat": 4
 },
 "nbformat": 4,
 "nbformat_minor": 2
}
