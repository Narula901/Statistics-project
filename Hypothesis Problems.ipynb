{
 "cells": [
  {
   "attachments": {},
   "cell_type": "markdown",
   "metadata": {},
   "source": [
    "# Hypothesis Testing Problems"
   ]
  },
  {
   "cell_type": "markdown",
   "metadata": {},
   "source": []
  },
  {
   "attachments": {},
   "cell_type": "markdown",
   "metadata": {},
   "source": [
    "# Population Mean, σ Known"
   ]
  },
  {
   "attachments": {},
   "cell_type": "markdown",
   "metadata": {},
   "source": [
    "Ques - Individuals filing federal income tax returns prior to March 31 received an average refund of $1056. Consider the population of “last-minute” filers who mail their tax return during the last five days of the income tax period (typically April 10 to April 15).\n",
    "\n",
    "a. A researcher suggests that a reason individuals wait until the last five days is that on average these individuals receive lower refunds than do early filers. Develop appropriate hypotheses such that rejection of H0 will support the researcher’s contention.\n",
    "\n",
    "b. For a sample of 400 individuals who filed a tax return between April 10 and 15, the\n",
    "sample mean refund was $910. Based on prior experience a population standard deviation of σ = $1600 may be assumed. What is the p-value?\n",
    "\n",
    "c. At α = .05, what is your conclusion?\n"
   ]
  },
  {
   "attachments": {},
   "cell_type": "markdown",
   "metadata": {},
   "source": [
    "    Ans (a) \n",
    "    Null Hypothesis Population Mean >= 1056\n",
    "\n",
    "    Alternative Hypthesis  Population Mean < 1056\n",
    "\n",
    "    It is a Lower Tail Test"
   ]
  },
  {
   "cell_type": "code",
   "execution_count": 2,
   "metadata": {},
   "outputs": [
    {
     "name": "stdout",
     "output_type": "stream",
     "text": [
      "-1.825\n"
     ]
    },
    {
     "data": {
      "text/plain": [
       "0.03400051466982242"
      ]
     },
     "execution_count": 2,
     "metadata": {},
     "output_type": "execute_result"
    }
   ],
   "source": [
    "# Ans (b)\n",
    "# Create a Function to Calculate Z value\n",
    "# x= 910, mu = 1056, sd = 1600, n = 400\n",
    "\n",
    "from scipy import stats\n",
    "import math\n",
    "\n",
    "def Value(x, mu, sd, n):\n",
    "    sqRoot = math.pow(n, 0.5)\n",
    "    Deno = sd/sqRoot\n",
    "    return (x-mu)/Deno\n",
    " \n",
    "z_Value = Value(910, 1056, 1600, 400)\n",
    "print(z_Value)\n",
    "\n",
    "# Calculate P-Value\n",
    "stats.norm.cdf(z_Value)  # Lower Tail Test"
   ]
  },
  {
   "attachments": {},
   "cell_type": "markdown",
   "metadata": {},
   "source": [
    "    Ans (b) - P value = 0.03400051466982242"
   ]
  },
  {
   "attachments": {},
   "cell_type": "markdown",
   "metadata": {},
   "source": [
    "    Ans (c) - As P-Value is less than α\n",
    "\n",
    "    Therefore, Reject the Null Hypothesis.\n",
    "\n",
    "    To conclude, that the mean refund of “last minute” filers is less than $1056"
   ]
  },
  {
   "cell_type": "markdown",
   "metadata": {},
   "source": []
  },
  {
   "attachments": {},
   "cell_type": "markdown",
   "metadata": {},
   "source": [
    "Ques - CN and ActMedia provided a television channel targeted to individuals waiting in supermarket checkout lines. The channel showed news, short features, and advertisements. The length of the program was based on the assumption that the population mean time a shopper stands in a supermarket checkout line is 8 minutes. A sample of actual waiting times\n",
    "will be used to test this assumption and determine whether actual mean waiting time differs from this standard.\n",
    "\n",
    "a. Formulate the hypotheses for this application.\n",
    "\n",
    "b. A sample of 120 shoppers showed a sample mean waiting time of 7.5 minutes. Assume a population standard deviation σ = 3.2 minutes. What is the p-value?\n",
    "\n",
    "c. At α = .05, what is your conclusion?"
   ]
  },
  {
   "attachments": {},
   "cell_type": "markdown",
   "metadata": {},
   "source": [
    "    Ans (a) \n",
    "    Null Hypothesis, Population Mean = 8 (Equal)\n",
    "\n",
    "    Alternative Hypthesis, Population Mean <> 8 (Not equal)\n",
    "\n",
    "    It is a Two Tail Test"
   ]
  },
  {
   "cell_type": "code",
   "execution_count": 2,
   "metadata": {},
   "outputs": [
    {
     "name": "stdout",
     "output_type": "stream",
     "text": [
      "-1.7116329922036442\n"
     ]
    },
    {
     "data": {
      "text/plain": [
       "0.08696432431499454"
      ]
     },
     "execution_count": 2,
     "metadata": {},
     "output_type": "execute_result"
    }
   ],
   "source": [
    "# Ans(b), Use Previous Function to Calculate Z Value\n",
    "# x= 7.5, mu = 8, sd = 3.2, n = 120 \n",
    "z_Value = Value(7.5, 8, 3.2, 120)\n",
    "print(z_Value)\n",
    "\n",
    "# Calculate P-Value\n",
    "# for Two Tail Test \n",
    "2 * stats.norm.cdf(z_Value)  "
   ]
  },
  {
   "attachments": {},
   "cell_type": "markdown",
   "metadata": {},
   "source": [
    "    Ans (b) - P value = 0.08696432431499454"
   ]
  },
  {
   "attachments": {},
   "cell_type": "markdown",
   "metadata": {},
   "source": [
    "    Ans (c) - As P-Value is Greater than α\n",
    "\n",
    "    Therefore, Do not Reject the Null Hypothesis.\n",
    "\n",
    "    cannot conclude the mean waiting time differs from eight minutes."
   ]
  },
  {
   "cell_type": "markdown",
   "metadata": {},
   "source": []
  },
  {
   "attachments": {},
   "cell_type": "markdown",
   "metadata": {},
   "source": [
    "# Population Mean, σ Unknown"
   ]
  },
  {
   "attachments": {},
   "cell_type": "markdown",
   "metadata": {},
   "source": [
    "Ques - Average Sales of Ice cream in a local Shop of Delhi for last month was 10 . Shopowner Anticipated that sample data would show evidence that mean sales of ice cream below the the 10.\n",
    "\n",
    "a. Develop hypothesis Test\n",
    "\n",
    "b. Calculate P-value\n",
    "\n",
    "c. At α = .05, what is your conclusion?\n",
    "\n",
    "Data for Sample fetch from Excel"
   ]
  },
  {
   "cell_type": "code",
   "execution_count": 3,
   "metadata": {},
   "outputs": [],
   "source": [
    "# Import Library\n",
    "import pandas as pd"
   ]
  },
  {
   "cell_type": "code",
   "execution_count": 4,
   "metadata": {},
   "outputs": [
    {
     "name": "stdout",
     "output_type": "stream",
     "text": [
      "<class 'pandas.core.frame.DataFrame'>\n",
      "RangeIndex: 20 entries, 0 to 19\n",
      "Data columns (total 2 columns):\n",
      " #   Column                 Non-Null Count  Dtype\n",
      "---  ------                 --------------  -----\n",
      " 0   Day                    20 non-null     int64\n",
      " 1   No. of Ice Cream Sold  20 non-null     int64\n",
      "dtypes: int64(2)\n",
      "memory usage: 448.0 bytes\n"
     ]
    }
   ],
   "source": [
    "Sales = pd.read_csv('C:\\\\Users\\\\JITENDRA\\\\Downloads\\\\Data for Stat Projects\\\\Ice- Cream Sales.csv')\n",
    "Sales.info()"
   ]
  },
  {
   "cell_type": "code",
   "execution_count": 5,
   "metadata": {},
   "outputs": [
    {
     "data": {
      "text/html": [
       "<div>\n",
       "<style scoped>\n",
       "    .dataframe tbody tr th:only-of-type {\n",
       "        vertical-align: middle;\n",
       "    }\n",
       "\n",
       "    .dataframe tbody tr th {\n",
       "        vertical-align: top;\n",
       "    }\n",
       "\n",
       "    .dataframe thead th {\n",
       "        text-align: right;\n",
       "    }\n",
       "</style>\n",
       "<table border=\"1\" class=\"dataframe\">\n",
       "  <thead>\n",
       "    <tr style=\"text-align: right;\">\n",
       "      <th></th>\n",
       "      <th>Day</th>\n",
       "      <th>No. of Ice Cream Sold</th>\n",
       "    </tr>\n",
       "  </thead>\n",
       "  <tbody>\n",
       "    <tr>\n",
       "      <th>0</th>\n",
       "      <td>1</td>\n",
       "      <td>13</td>\n",
       "    </tr>\n",
       "    <tr>\n",
       "      <th>1</th>\n",
       "      <td>2</td>\n",
       "      <td>8</td>\n",
       "    </tr>\n",
       "    <tr>\n",
       "      <th>2</th>\n",
       "      <td>3</td>\n",
       "      <td>10</td>\n",
       "    </tr>\n",
       "    <tr>\n",
       "      <th>3</th>\n",
       "      <td>4</td>\n",
       "      <td>10</td>\n",
       "    </tr>\n",
       "    <tr>\n",
       "      <th>4</th>\n",
       "      <td>5</td>\n",
       "      <td>8</td>\n",
       "    </tr>\n",
       "  </tbody>\n",
       "</table>\n",
       "</div>"
      ],
      "text/plain": [
       "   Day   No. of Ice Cream Sold\n",
       "0     1                     13\n",
       "1     2                      8\n",
       "2     3                     10\n",
       "3     4                     10\n",
       "4     5                      8"
      ]
     },
     "execution_count": 5,
     "metadata": {},
     "output_type": "execute_result"
    }
   ],
   "source": [
    "Sales.head()"
   ]
  },
  {
   "attachments": {},
   "cell_type": "markdown",
   "metadata": {},
   "source": [
    "    Ans(a) \n",
    "\n",
    "    Null Hypothesis, Population Mean <= 10\n",
    "\n",
    "    Alternative Hypthesis, Population Mean > 10 \n",
    "\n",
    "    It is a Upper Tail Test"
   ]
  },
  {
   "cell_type": "code",
   "execution_count": 6,
   "metadata": {},
   "outputs": [
    {
     "name": "stdout",
     "output_type": "stream",
     "text": [
      "Ttest_1sampResult(statistic=-0.35843385854878496, pvalue=0.7239703579964252)\n",
      "0.3619851789982126\n"
     ]
    }
   ],
   "source": [
    "# Ans(b), Calculate P-Value\n",
    "# convert Dataframe to list\n",
    "col_one_list = Sales['No. of Ice Cream Sold'].tolist()\n",
    "col_one_list\n",
    "print(stats.ttest_1samp(col_one_list, 10))   # This give P-value for Two Tailed test\n",
    "\n",
    "# P-values for Upper Tail test\n",
    "P_value = 0.7239703579964252/2    # Result of Two Tail test/2\n",
    "print(P_value)\n"
   ]
  },
  {
   "attachments": {},
   "cell_type": "markdown",
   "metadata": {},
   "source": [
    "    Ans (b) - P value = 0.3619851789982126"
   ]
  },
  {
   "attachments": {},
   "cell_type": "markdown",
   "metadata": {},
   "source": [
    "    Ans(c) \n",
    "\n",
    "    As P-Value is Greater than α\n",
    "\n",
    "    Therefore, Accept the Null Hypothesis.\n",
    "\n",
    "    To conclude the sales of Ice-cream is below 10"
   ]
  },
  {
   "cell_type": "markdown",
   "metadata": {},
   "source": []
  },
  {
   "attachments": {},
   "cell_type": "markdown",
   "metadata": {},
   "source": [
    "# Population Proportion"
   ]
  },
  {
   "attachments": {},
   "cell_type": "markdown",
   "metadata": {},
   "source": [
    "Ques -  study by Consumer Reports showed that 64% of supermarket shoppers believe supermarket brands to be as good as national name brands. To investigate whether this result applies to its own product, the manufacturer of a national name-brand ketchup asked a sampleof shoppers whether they believed that supermarket ketchup was as good as the national\n",
    "brand ketchup.\n",
    "\n",
    "a. Formulate the hypotheses that could be used to determine whether the percentage of supermarket shoppers who believe that the supermarket ketchup was as good as the\n",
    "national brand ketchup differed from 64%.\n",
    "\n",
    "b. If a sample of 100 shoppers showed 52 stating that the supermarket brand was as good as the national brand, what is the p-value?\n",
    "\n",
    "c. At α = .05, what is your conclusion?\n",
    "\n",
    "d. Should the national brand ketchup manufacturer be pleased with this conclusion?\n",
    "Explain"
   ]
  },
  {
   "attachments": {},
   "cell_type": "markdown",
   "metadata": {},
   "source": [
    "    Ans(a) \n",
    "\n",
    "    Null Hypothesis, Population Proportion >= 0.64\n",
    "\n",
    "    Alternative Hypthesis, Population Mean < 0.64\n",
    "\n",
    "    It is a Lower Tail Test"
   ]
  },
  {
   "cell_type": "code",
   "execution_count": 14,
   "metadata": {},
   "outputs": [
    {
     "name": "stdout",
     "output_type": "stream",
     "text": [
      "(-2.401922307076307, 0.016309171877754974)\n",
      "0.008154585938877487\n"
     ]
    }
   ],
   "source": [
    "# Ans(b)\n",
    "# Import Proportion Library\n",
    "from statsmodels.stats.proportion import proportions_ztest\n",
    "Count = 52\n",
    "samplesize = 100\n",
    "p = 0.64\n",
    "print(proportions_ztest(Count, samplesize, p))  # Giving P_value for Two tailed Test\n",
    "P_value = 0.016309171877754974/2      # Gives P_Value for Lower Tailed Test \n",
    "print(P_value)"
   ]
  },
  {
   "attachments": {},
   "cell_type": "markdown",
   "metadata": {},
   "source": [
    "    Ans (b) - P value = 0.008154585938877487"
   ]
  },
  {
   "attachments": {},
   "cell_type": "markdown",
   "metadata": {},
   "source": [
    "    Ans(c) - As P-Value is less than α. Therefore, Reject the Null Hypothesis.\n",
    "\n",
    "    To conclude, less than 64% of shoppers believe supermarket ketchup is as good as the\n",
    "    national brand"
   ]
  },
  {
   "attachments": {},
   "cell_type": "markdown",
   "metadata": {},
   "source": [
    "Ans(d) \n",
    "\n",
    "Yes, National brand Ketchup Manufacturer must be Happy with conclusion"
   ]
  },
  {
   "cell_type": "markdown",
   "metadata": {},
   "source": []
  },
  {
   "attachments": {},
   "cell_type": "markdown",
   "metadata": {},
   "source": [
    "# Calculation of Type 1 and Type 2 Error"
   ]
  },
  {
   "attachments": {},
   "cell_type": "markdown",
   "metadata": {},
   "source": [
    "Ques - A consumer research group is interested in testing an automobile manufacturer’s claim that a new economy model will travel at least 25 miles per gallon of gasoline \n",
    "(H0: µ >= 25).\n",
    "\n",
    "a. Calculate Type 1 error.\n",
    "\n",
    "b. With a .02 level of significance and a sample of 30 cars, what is the rejection rule based on the value of for the test to determine whether the manufacturer’s claim should be\n",
    "rejected? Assume that σ is 3 miles per gallon.\n",
    "\n",
    "c. What is the probability of committing a Type II error if the actual mileage is 23 miles\n",
    "per gallon?\n",
    "\n",
    "d. What is the probability of committing a Type II error if the actual mileage is 24 miles\n",
    "per gallon?\n",
    "\n",
    "e. What is the probability of committing a Type II error if the actual mileage is 25.5 miles\n",
    "per gallon?"
   ]
  },
  {
   "attachments": {},
   "cell_type": "markdown",
   "metadata": {},
   "source": [
    "    Ans (a)\n",
    "    Type 1 error occurs when the null hypothesis is true but we reject it.\n",
    "\n",
    "    Mathematically, Type 1 Error = Level of Significance\n",
    "    \n",
    "    Therefore, for this Problem, Type 1 error = 2 percent"
   ]
  },
  {
   "cell_type": "code",
   "execution_count": 3,
   "metadata": {},
   "outputs": [
    {
     "data": {
      "text/plain": [
       "23.87511539419529"
      ]
     },
     "execution_count": 3,
     "metadata": {},
     "output_type": "execute_result"
    }
   ],
   "source": [
    "# Ans (b), I need to calculate X bar\n",
    "# Calculation for X bar value\n",
    "#  \n",
    "def XValue( mu, sd, n):\n",
    "    sqRoot = math.pow(n, 0.5)\n",
    "    Deno = sd/sqRoot\n",
    "    z = stats.norm.ppf(0.02)\n",
    "    Z_valuetype = z*Deno\n",
    "    return mu + Z_valuetype\n",
    "\n",
    "# calling a function\n",
    "XValue(25, 3, 30 )   "
   ]
  },
  {
   "attachments": {},
   "cell_type": "markdown",
   "metadata": {},
   "source": [
    "    Ans (b)\n",
    "\n",
    "    Decision Rule\n",
    "\n",
    "    Accept H0 if X bar >= 23.88\n",
    "\n",
    "    Reject H0 if X bar < 23.88"
   ]
  },
  {
   "cell_type": "code",
   "execution_count": 14,
   "metadata": {},
   "outputs": [],
   "source": [
    "# Creating Function to Calculate Type 2 Error\n",
    "import numpy as np\n",
    "def type_2(mu1,mu2,sigma,n,alfa):\n",
    "    z = stats.norm.ppf(alfa)\n",
    "    xbar = (mu1)+(z*sigma/np.sqrt(n))\n",
    "    z2 = (xbar - mu2)/(sigma/np.sqrt(n))\n",
    "    if(mu1>mu2):\n",
    "        beta = 1-stats.norm.cdf(z2)\n",
    "    else:\n",
    "        beta = stats.norm.cdf(z2)\n",
    "    \n",
    "    print(beta)\n"
   ]
  },
  {
   "attachments": {},
   "cell_type": "markdown",
   "metadata": {},
   "source": [
    "    Ans (c)\n",
    "\n",
    "    Type 2 error (Beta) = 5.5 percent\n"
   ]
  },
  {
   "cell_type": "code",
   "execution_count": 16,
   "metadata": {},
   "outputs": [
    {
     "name": "stdout",
     "output_type": "stream",
     "text": [
      "0.5901796210049072\n"
     ]
    }
   ],
   "source": [
    "# Ans(c), type 2 error (Beta) for mileage is equal to 24 miles per gallon\n",
    "type_2(25,24,3,30,0.02)"
   ]
  },
  {
   "attachments": {},
   "cell_type": "markdown",
   "metadata": {},
   "source": [
    "    Ans (d)\n",
    "\n",
    "    Type 2 error (Beta) = 59 percent"
   ]
  },
  {
   "cell_type": "code",
   "execution_count": 20,
   "metadata": {},
   "outputs": [
    {
     "name": "stdout",
     "output_type": "stream",
     "text": [
      "0.0015054649762203938\n"
     ]
    }
   ],
   "source": [
    "#Ans(d), type 2 error (Beta) for mileage is equal to 24 miles per gallon\n",
    "# Calling Z values \n",
    "type_2(25,25.5,3,30,0.02) "
   ]
  },
  {
   "attachments": {},
   "cell_type": "markdown",
   "metadata": {},
   "source": [
    "    Ans (e)\n",
    "\n",
    "    Type 2 error (Beta) = 0.1 percent"
   ]
  },
  {
   "attachments": {},
   "cell_type": "markdown",
   "metadata": {},
   "source": [
    "    Conclusion \n",
    "\n",
    "    Shows, the probability of a Type II error depends on the value of the population mean µ. For values of µ near µ0, the probability of making the Type II error can be high."
   ]
  },
  {
   "cell_type": "code",
   "execution_count": null,
   "metadata": {},
   "outputs": [],
   "source": []
  }
 ],
 "metadata": {
  "kernelspec": {
   "display_name": "base",
   "language": "python",
   "name": "python3"
  },
  "language_info": {
   "codemirror_mode": {
    "name": "ipython",
    "version": 3
   },
   "file_extension": ".py",
   "mimetype": "text/x-python",
   "name": "python",
   "nbconvert_exporter": "python",
   "pygments_lexer": "ipython3",
   "version": "3.9.7"
  },
  "orig_nbformat": 4,
  "vscode": {
   "interpreter": {
    "hash": "ad2bdc8ecc057115af97d19610ffacc2b4e99fae6737bb82f5d7fb13d2f2c186"
   }
  }
 },
 "nbformat": 4,
 "nbformat_minor": 2
}
