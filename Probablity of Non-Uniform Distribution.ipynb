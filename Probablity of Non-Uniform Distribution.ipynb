{
 "cells": [
  {
   "cell_type": "code",
   "execution_count": 4,
   "metadata": {},
   "outputs": [
    {
     "data": {
      "image/png": "[encoded data removed]",
      "text/plain": [
       "<Figure size 432x288 with 1 Axes>"
      ]
     },
     "metadata": {
      "needs_background": "light"
     },
     "output_type": "display_data"
    },
    {
     "name": "stdout",
     "output_type": "stream",
     "text": [
      "Probability of age 30: 15.00%\n",
      "Probability of ages between 25 and 35: 80.00%\n"
     ]
    }
   ],
   "source": [
    "import pandas as pd\n",
    "import numpy as np\n",
    "import matplotlib.pyplot as plt\n",
    "\n",
    "# Create a synthetic dataset with an 'age' column\n",
    "data = {\n",
    "    'age': [25, 30, 32, 28, 35, 40, 22, 27, 31, 29, 26, 33, 30, 23, 30, 31, 35, 38, 29, 28]\n",
    "}\n",
    "\n",
    "df = pd.DataFrame(data)\n",
    "\n",
    "# Analyze the age distribution\n",
    "plt.hist(df['age'], bins=10)  # Adjust the number of bins as needed\n",
    "plt.xlabel('Age')\n",
    "plt.ylabel('Frequency')\n",
    "plt.title('Age Distribution')\n",
    "plt.show()\n",
    "\n",
    "# Calculate probability for specific ages\n",
    "age_to_find = 30\n",
    "probability_age = len(df[df['age'] == age_to_find]) / len(df)\n",
    "print(f'Probability of age {age_to_find}: {probability_age:.2%}')\n",
    "\n",
    "# Calculate probability for an age range\n",
    "min_age = 25\n",
    "max_age = 35\n",
    "probability_age_range = len(df[(df['age'] >= min_age) & (df['age'] <= max_age)]) / len(df)\n",
    "print(f'Probability of ages between {min_age} and {max_age}: {probability_age_range:.2%}')\n"
   ]
  },
  {
   "cell_type": "code",
   "execution_count": 1,
   "metadata": {},
   "outputs": [
    {
     "data": {
      "image/png": "[encoded data removed]",
      "text/plain": [
       "<Figure size 432x288 with 1 Axes>"
      ]
     },
     "metadata": {
      "needs_background": "light"
     },
     "output_type": "display_data"
    },
    {
     "name": "stdout",
     "output_type": "stream",
     "text": [
      "Probability of salaries between $45000 and $65000: 78.57%\n",
      "Probability of salary below the 75th percentile: 71.43%\n"
     ]
    }
   ],
   "source": [
    "import pandas as pd\n",
    "import numpy as np\n",
    "import matplotlib.pyplot as plt\n",
    "\n",
    "# Create a synthetic dataset with a 'salary' column\n",
    "data = {\n",
    "    'salary': [45000, 60000, 55000, 48000, 70000, 80000, 52000, 63000.76, 58000, 65000, 54000, 72000, 55000, 49000]\n",
    "}\n",
    "\n",
    "df = pd.DataFrame(data)\n",
    "\n",
    "# Analyze the salary distribution\n",
    "plt.hist(df['salary'], bins=10)  # Adjust the number of bins as needed\n",
    "plt.xlabel('Salary')\n",
    "plt.ylabel('Frequency')\n",
    "plt.title('Salary Distribution')\n",
    "plt.show()\n",
    "\n",
    "# Calculate probability for a specific salary range\n",
    "min_salary = 45000\n",
    "max_salary = 65000\n",
    "probability_salary_range = len(df[(df['salary'] >= min_salary) & (df['salary'] <= max_salary)]) / len(df)\n",
    "print(f'Probability of salaries between ${min_salary} and ${max_salary}: {probability_salary_range:.2%}')\n",
    "\n",
    "# Calculate probability for a specific percentile\n",
    "percentile = 75\n",
    "cutoff_salary = np.percentile(df['salary'], percentile)\n",
    "probability_percentile = len(df[df['salary'] <= cutoff_salary]) / len(df)\n",
    "print(f'Probability of salary below the {percentile}th percentile: {probability_percentile:.2%}')\n"
   ]
  },
  {
   "cell_type": "code",
   "execution_count": 7,
   "metadata": {},
   "outputs": [
    {
     "data": {
      "text/plain": [
       "11"
      ]
     },
     "execution_count": 7,
     "metadata": {},
     "output_type": "execute_result"
    }
   ],
   "source": [
    "len(df[(df['salary'] >= min_salary)])"
   ]
  },
  {
   "cell_type": "code",
   "execution_count": 4,
   "metadata": {},
   "outputs": [
    {
     "name": "stdout",
     "output_type": "stream",
     "text": [
      "        age\n",
      "0  0.234634\n",
      "1  1.505061\n",
      "2  0.658373\n",
      "3  0.456471\n",
      "4  0.084812\n"
     ]
    }
   ],
   "source": [
    "import pandas as pd\n",
    "import numpy as np\n",
    "\n",
    "# Set a seed for reproducibility\n",
    "np.random.seed(42)\n",
    "\n",
    "# Number of rows in the DataFrame\n",
    "n = 1000\n",
    "\n",
    "# Generate highly skewed age values using the exponential distribution\n",
    "skew_factor = 0.5  # Adjust this value to control skewness\n",
    "ages = np.random.exponential(scale=skew_factor, size=n)\n",
    "\n",
    "# Create a DataFrame with the age column\n",
    "df = pd.DataFrame({'age': ages})\n",
    "\n",
    "# Display the first few rows of the DataFrame\n",
    "print(df.head())\n"
   ]
  },
  {
   "cell_type": "code",
   "execution_count": 5,
   "metadata": {},
   "outputs": [
    {
     "data": {
      "image/png": "[encoded data removed]",
      "text/plain": [
       "<Figure size 432x288 with 1 Axes>"
      ]
     },
     "metadata": {
      "needs_background": "light"
     },
     "output_type": "display_data"
    }
   ],
   "source": [
    "plt.hist(df['age'], bins=10)  # Adjust the number of bins as needed\n",
    "plt.xlabel('age')\n",
    "plt.ylabel('Frequency')\n",
    "plt.title('Salary Distribution')\n",
    "plt.show()"
   ]
  },
  {
   "cell_type": "code",
   "execution_count": 16,
   "metadata": {},
   "outputs": [
    {
     "name": "stdout",
     "output_type": "stream",
     "text": [
      "Probability of salaries between $0 and $1.5: 95.50%\n"
     ]
    }
   ],
   "source": [
    "min_salary = 0\n",
    "max_salary = 1.5\n",
    "probability_salary_range = len(df[(df['age'] >= min_salary) & (df['age'] <= max_salary)]) / len(df)\n",
    "print(f'Probability of salaries between ${min_salary} and ${max_salary}: {probability_salary_range:.2%}')"
   ]
  },
  {
   "cell_type": "code",
   "execution_count": 8,
   "metadata": {},
   "outputs": [
    {
     "data": {
      "text/html": [
       "<div>\n",
       "<style scoped>\n",
       "    .dataframe tbody tr th:only-of-type {\n",
       "        vertical-align: middle;\n",
       "    }\n",
       "\n",
       "    .dataframe tbody tr th {\n",
       "        vertical-align: top;\n",
       "    }\n",
       "\n",
       "    .dataframe thead th {\n",
       "        text-align: right;\n",
       "    }\n",
       "</style>\n",
       "<table border=\"1\" class=\"dataframe\">\n",
       "  <thead>\n",
       "    <tr style=\"text-align: right;\">\n",
       "      <th></th>\n",
       "      <th>age</th>\n",
       "    </tr>\n",
       "  </thead>\n",
       "  <tbody>\n",
       "    <tr>\n",
       "      <th>0</th>\n",
       "      <td>0.234634</td>\n",
       "    </tr>\n",
       "    <tr>\n",
       "      <th>1</th>\n",
       "      <td>1.505061</td>\n",
       "    </tr>\n",
       "    <tr>\n",
       "      <th>2</th>\n",
       "      <td>0.658373</td>\n",
       "    </tr>\n",
       "    <tr>\n",
       "      <th>3</th>\n",
       "      <td>0.456471</td>\n",
       "    </tr>\n",
       "    <tr>\n",
       "      <th>4</th>\n",
       "      <td>0.084812</td>\n",
       "    </tr>\n",
       "    <tr>\n",
       "      <th>...</th>\n",
       "      <td>...</td>\n",
       "    </tr>\n",
       "    <tr>\n",
       "      <th>995</th>\n",
       "      <td>0.048025</td>\n",
       "    </tr>\n",
       "    <tr>\n",
       "      <th>996</th>\n",
       "      <td>1.246350</td>\n",
       "    </tr>\n",
       "    <tr>\n",
       "      <th>997</th>\n",
       "      <td>0.073565</td>\n",
       "    </tr>\n",
       "    <tr>\n",
       "      <th>998</th>\n",
       "      <td>1.500245</td>\n",
       "    </tr>\n",
       "    <tr>\n",
       "      <th>999</th>\n",
       "      <td>0.295301</td>\n",
       "    </tr>\n",
       "  </tbody>\n",
       "</table>\n",
       "<p>1000 rows × 1 columns</p>\n",
       "</div>"
      ],
      "text/plain": [
       "          age\n",
       "0    0.234634\n",
       "1    1.505061\n",
       "2    0.658373\n",
       "3    0.456471\n",
       "4    0.084812\n",
       "..        ...\n",
       "995  0.048025\n",
       "996  1.246350\n",
       "997  0.073565\n",
       "998  1.500245\n",
       "999  0.295301\n",
       "\n",
       "[1000 rows x 1 columns]"
      ]
     },
     "execution_count": 8,
     "metadata": {},
     "output_type": "execute_result"
    }
   ],
   "source": [
    "df"
   ]
  },
  {
   "cell_type": "code",
   "execution_count": 12,
   "metadata": {},
   "outputs": [],
   "source": [
    "import seaborn as sns "
   ]
  },
  {
   "cell_type": "code",
   "execution_count": 15,
   "metadata": {},
   "outputs": [
    {
     "data": {
      "text/plain": [
       "<AxesSubplot:xlabel='age', ylabel='Proportion'>"
      ]
     },
     "execution_count": 15,
     "metadata": {},
     "output_type": "execute_result"
    },
    {
     "data": {
      "image/png": "[encoded data removed]",
      "text/plain": [
       "<Figure size 432x288 with 1 Axes>"
      ]
     },
     "metadata": {
      "needs_background": "light"
     },
     "output_type": "display_data"
    }
   ],
   "source": [
    "sns.histplot(data=df, x=\"age\", stat ='proportion')\n"
   ]
  },
  {
   "cell_type": "code",
   "execution_count": null,
   "metadata": {},
   "outputs": [],
   "source": []
  }
 ],
 "metadata": {
  "kernelspec": {
   "display_name": "base",
   "language": "python",
   "name": "python3"
  },
  "language_info": {
   "codemirror_mode": {
    "name": "ipython",
    "version": 3
   },
   "file_extension": ".py",
   "mimetype": "text/x-python",
   "name": "python",
   "nbconvert_exporter": "python",
   "pygments_lexer": "ipython3",
   "version": "3.9.7"
  }
 },
 "nbformat": 4,
 "nbformat_minor": 2
}
