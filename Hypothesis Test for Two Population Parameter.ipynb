{
 "cells": [
  {
   "attachments": {},
   "cell_type": "markdown",
   "metadata": {},
   "source": [
    "### Inferences About the Difference Between Two Population Means: σ1 and σ2 Known"
   ]
  },
  {
   "attachments": {},
   "cell_type": "markdown",
   "metadata": {},
   "source": [
    "During the 2003 season, Major League Baseball took steps to speed up the play of baseball games in order to maintain fan interest (CNN Headline News, September 30, 2003).\n",
    "The following results come from a sample of 60 games played during the summer of 2002 and a sample of 50 games played during the summer of 2003. The sample mean shows the\n",
    "mean duration of the games included in each sample.\n",
    "\n",
    "      2002 Season                             2003 Season\n",
    "      n1 = 60                                 n2 = 50 \n",
    "      Sample mean x1 = 172 min                Sample mean x2 = 166 min\n",
    "\n",
    "a. A research hypothesis was that the steps taken during the 2003 season would reduce\n",
    "the population mean duration of baseball games. Formulate the null and alternative\n",
    "hypotheses.\n",
    "\n",
    "b. What is the point estimate of the reduction in the mean duration of games during the\n",
    "2003 season?\n",
    "\n",
    "c. Historical data indicate a population standard deviation of 12 minutes is a reasonable\n",
    "assumption for both years. Conduct the hypothesis test and report the p-value. At a .05\n",
    "level of significance, what is your conclusion?\n",
    "\n",
    "d. Provide a 95% confidence interval estimate of the reduction in the mean duration of\n",
    "games during the 2003 season."
   ]
  },
  {
   "attachments": {},
   "cell_type": "markdown",
   "metadata": {},
   "source": [
    "    Ans (a) Null Hypothesis, Ho = mu1-mu2 = 0, mu1 = mu2, The steps taken during the 2003 season did not reduce the population mean duration of baseball games.\n",
    "    \n",
    "            Alternative Hypothesis, Ha = mu1 > mu2, The steps taken during the 2003 season reduced the population mean duration of baseball games.\n",
    "\n",
    "            So, we need to use Upper Tail Test"
   ]
  },
  {
   "cell_type": "code",
   "execution_count": 77,
   "metadata": {},
   "outputs": [
    {
     "data": {
      "text/plain": [
       "6"
      ]
     },
     "execution_count": 77,
     "metadata": {},
     "output_type": "execute_result"
    }
   ],
   "source": [
    "# Ans(b) \n",
    "#Point Estimate = x1 - x2 \n",
    "Point_Estimate = 172-166\n",
    "Point_Estimate"
   ]
  },
  {
   "attachments": {},
   "cell_type": "markdown",
   "metadata": {},
   "source": [
    "    Ans(b) Point estimate of the reduction in the mean duration of games = 6 min"
   ]
  },
  {
   "cell_type": "code",
   "execution_count": null,
   "metadata": {},
   "outputs": [],
   "source": []
  },
  {
   "cell_type": "code",
   "execution_count": 78,
   "metadata": {},
   "outputs": [],
   "source": [
    "# Import Libraries\n",
    "import pandas as pd\n",
    "import numpy as np\n",
    "import math\n",
    "from scipy import stats\n",
    "from scipy.stats import norm"
   ]
  },
  {
   "cell_type": "code",
   "execution_count": 79,
   "metadata": {},
   "outputs": [],
   "source": [
    "# Define a function to calculate Z and P value\n",
    "def Z_and_p(x1, x2, Sigma1, Sigma2, n1, n2):\n",
    "    z = (x1-x2)/(math.sqrt(((Sigma1**2)/n1)+ ((Sigma2**2)/n2)))\n",
    "    if(z < 0):\n",
    "        p = stats.norm.cdf(z)\n",
    "    else:\n",
    "        p = 1-stats.norm.cdf(z)\n",
    "    print(z,p)"
   ]
  },
  {
   "cell_type": "code",
   "execution_count": 80,
   "metadata": {},
   "outputs": [
    {
     "name": "stdout",
     "output_type": "stream",
     "text": [
      "2.611164839335468 0.00451171940904016\n"
     ]
    }
   ],
   "source": [
    "# Ans(c) Calculate value for Z and p for given value\n",
    "# x1 = 172 min, x2 = 166 min, Sigma1 = Sigma2 = 12 min, n1 = 60, n2 = 50\n",
    "Z_and_p(172,166,12,12,60,50)"
   ]
  },
  {
   "attachments": {},
   "cell_type": "markdown",
   "metadata": {},
   "source": [
    "    Ans(c) Z = 2.61\n",
    "           p = 0.0045\n",
    "\n",
    "    Since, p value is less than the Level of Significance (0.05), we reject the null hypothesis and conclude that the steps taken during the 2003 season reduced the population mean duration of baseball games."
   ]
  },
  {
   "cell_type": "code",
   "execution_count": 81,
   "metadata": {},
   "outputs": [],
   "source": [
    "# Define a function to calculate Confidence Interval\n",
    "\n",
    "def Confidence_Interval(x1, x2, sigma, n1, n2, alpha):\n",
    "   \n",
    "    # Calculate the standard error of the difference between the means\n",
    "    std_err = math.sqrt(sigma**2 * (1/n1 + 1/n2))\n",
    "    \n",
    "    # Calculate the z-value for the given significance level\n",
    "    z = norm.ppf(1 - alpha/2)\n",
    "    \n",
    "    # Calculate the margin of error\n",
    "    margin_of_error = z * std_err\n",
    "    \n",
    "    # Calculate the lower and upper bounds of the confidence interval\n",
    "    lower = (x1 - x2) - margin_of_error\n",
    "    upper = (x1 - x2) + margin_of_error\n",
    "    \n",
    "    return (lower, upper)\n"
   ]
  },
  {
   "cell_type": "code",
   "execution_count": 82,
   "metadata": {},
   "outputs": [
    {
     "data": {
      "text/plain": [
       "(1.4963456423405468, 10.503654357659453)"
      ]
     },
     "execution_count": 82,
     "metadata": {},
     "output_type": "execute_result"
    }
   ],
   "source": [
    "# Ans(d) Calculate value for Confidence Interval\n",
    "# x1 = 172 min, x2 = 166 min, Sigma = 12 min, n1 = 60, n2 = 50, alpha = 0.05\n",
    "Confidence_Interval(172,166,12,60,50,0.05)"
   ]
  },
  {
   "attachments": {},
   "cell_type": "markdown",
   "metadata": {},
   "source": [
    "    Ans(d) Lower Limit = 1.49\n",
    "           Upper Limit = 10.50"
   ]
  },
  {
   "attachments": {},
   "cell_type": "markdown",
   "metadata": {},
   "source": []
  },
  {
   "attachments": {},
   "cell_type": "markdown",
   "metadata": {},
   "source": [
    "### Inferences About the Difference Between Two Population Means: σ1 and σ2 Unknown and Assume they are equal"
   ]
  },
  {
   "attachments": {},
   "cell_type": "markdown",
   "metadata": {},
   "source": [
    "Two catalyst are being analyzed to determine how they affect the mean yield of a chemical process. Specifically, catalyst 1 is currently in use, but catalyst 2 is acceptable.\n",
    "Since catalyst 2 is cheaper, it should be adopted, Providing it does not change the Proceess yield.\n",
    "A test is run in the plant and results are shown below.\n",
    "Is there any difference between the mean yields?\n",
    "Use 0.05, and assume equal variances\n",
    "\n",
    "    Observation are :\n",
    "    Catalyst 1 = [91.50, 94.18, 92.18, 95.39, 91.79, 89.07, 94.72, 89.21]\n",
    "    Catalyst 2 = [89.19, 90.95, 90.46, 93.21, 97.19, 97.04, 91.07, 92.75]\n",
    "\n",
    "    \n"
   ]
  },
  {
   "attachments": {},
   "cell_type": "markdown",
   "metadata": {},
   "source": [
    "Solution:\n",
    "\n",
    "Hypothesis Test : \n",
    "The Pameter of Interest are mu1 and mu2, the mean process yield using catalysts 1 and 2, repectively.\n",
    "\n",
    "Null Hypothesis = mu1 - mu2 = 0, mu1 = mu2\n",
    "\n",
    "Alternative Hypothesis = mu != mu2\n",
    "\n",
    "alpha = 0.05\n"
   ]
  },
  {
   "cell_type": "code",
   "execution_count": 83,
   "metadata": {},
   "outputs": [],
   "source": [
    "import scipy.stats as stats"
   ]
  },
  {
   "cell_type": "code",
   "execution_count": 84,
   "metadata": {},
   "outputs": [],
   "source": [
    "Catalyst_1 = [91.50, 94.18, 92.18, 95.39, 91.79, 89.07, 94.72, 89.21]\n",
    "Catalyst_2 = [89.19, 90.95, 90.46, 93.21, 97.19, 97.04, 91.07, 92.75]"
   ]
  },
  {
   "cell_type": "code",
   "execution_count": 85,
   "metadata": {},
   "outputs": [
    {
     "data": {
      "text/plain": [
       "Ttest_indResult(statistic=-0.3535908643461798, pvalue=0.7289136186068217)"
      ]
     },
     "execution_count": 85,
     "metadata": {},
     "output_type": "execute_result"
    }
   ],
   "source": [
    "stats.ttest_ind(Catalyst_1, Catalyst_2, equal_var = True)"
   ]
  },
  {
   "attachments": {},
   "cell_type": "markdown",
   "metadata": {},
   "source": [
    "    t-test = -0.35\n",
    "    p-value = 0.72\n",
    "    Conclusion : As p-value is more than alpha value, Null hypothesis cannot be rejected.\n",
    "    Therefore, we do not have strong evidence to conclude that catalyst 2 results in a mean yield that differs from the mean yield when catalyst 1 is used.\n",
    "    \n"
   ]
  },
  {
   "cell_type": "code",
   "execution_count": null,
   "metadata": {},
   "outputs": [],
   "source": []
  },
  {
   "attachments": {},
   "cell_type": "markdown",
   "metadata": {},
   "source": [
    "### Inferences About the Difference Between Two Population Means: Matched Samples "
   ]
  },
  {
   "attachments": {},
   "cell_type": "markdown",
   "metadata": {},
   "source": [
    "Airline travelers often choose which airport to fly from based on flight cost. Cost data (in\n",
    "dollars) for a sample of flights to eight cities from Dayton, Ohio, and Louisville, Kentucky,\n",
    "were collected to help determine which of the two airports was more costly to fly from\n",
    "(The Cincinnati Enquirer, February 19, 2006). A researcher argued that it is significantly\n",
    "more costly to fly out of Dayton than Louisville. Use the sample data to see whether they\n",
    "support the researcher’s argument. Use alpha = .05 as the level of significance."
   ]
  },
  {
   "attachments": {},
   "cell_type": "markdown",
   "metadata": {},
   "source": [
    "    Hypothesis Test :\n",
    "\n",
    "    Null Hypothesis : There is no Significant difference in Cost of Dayton and Lousiville flights, Ud, U1-U2 = 0\n",
    "\n",
    "    Alternative Hypthesis : Dayton flights is costly than Louisville,Ud, U1 - U2 > 0\n",
    "\n",
    "    U1 = Mean cost for Dayton Flight, U2 = Mean Cost for Louisville Flight \n",
    "\n",
    "    It is  Upper Tail Test \n"
   ]
  },
  {
   "cell_type": "code",
   "execution_count": 86,
   "metadata": {},
   "outputs": [],
   "source": [
    "# Import Pandas\n",
    "import pandas as pd"
   ]
  },
  {
   "cell_type": "code",
   "execution_count": 87,
   "metadata": {},
   "outputs": [
    {
     "data": {
      "text/html": [
       "<div>\n",
       "<style scoped>\n",
       "    .dataframe tbody tr th:only-of-type {\n",
       "        vertical-align: middle;\n",
       "    }\n",
       "\n",
       "    .dataframe tbody tr th {\n",
       "        vertical-align: top;\n",
       "    }\n",
       "\n",
       "    .dataframe thead th {\n",
       "        text-align: right;\n",
       "    }\n",
       "</style>\n",
       "<table border=\"1\" class=\"dataframe\">\n",
       "  <thead>\n",
       "    <tr style=\"text-align: right;\">\n",
       "      <th></th>\n",
       "      <th>Dayton ($)</th>\n",
       "      <th>Lousiville ($)</th>\n",
       "    </tr>\n",
       "    <tr>\n",
       "      <th>Destination</th>\n",
       "      <th></th>\n",
       "      <th></th>\n",
       "    </tr>\n",
       "  </thead>\n",
       "  <tbody>\n",
       "    <tr>\n",
       "      <th>Chicago-O’Hare</th>\n",
       "      <td>319</td>\n",
       "      <td>142</td>\n",
       "    </tr>\n",
       "    <tr>\n",
       "      <th>Grand Rapids, Michigan</th>\n",
       "      <td>192</td>\n",
       "      <td>213</td>\n",
       "    </tr>\n",
       "    <tr>\n",
       "      <th>Portland, Oregon</th>\n",
       "      <td>503</td>\n",
       "      <td>317</td>\n",
       "    </tr>\n",
       "    <tr>\n",
       "      <th>Atlanta</th>\n",
       "      <td>256</td>\n",
       "      <td>387</td>\n",
       "    </tr>\n",
       "    <tr>\n",
       "      <th>Seattle</th>\n",
       "      <td>339</td>\n",
       "      <td>317</td>\n",
       "    </tr>\n",
       "    <tr>\n",
       "      <th>South Bend, Indiana</th>\n",
       "      <td>379</td>\n",
       "      <td>167</td>\n",
       "    </tr>\n",
       "    <tr>\n",
       "      <th>Miami</th>\n",
       "      <td>268</td>\n",
       "      <td>273</td>\n",
       "    </tr>\n",
       "    <tr>\n",
       "      <th>Dallas–Ft. Worth</th>\n",
       "      <td>288</td>\n",
       "      <td>274</td>\n",
       "    </tr>\n",
       "  </tbody>\n",
       "</table>\n",
       "</div>"
      ],
      "text/plain": [
       "                        Dayton ($)  Lousiville ($)\n",
       "Destination                                       \n",
       "Chicago-O’Hare                 319             142\n",
       "Grand Rapids, Michigan         192             213\n",
       "Portland, Oregon               503             317\n",
       "Atlanta                        256             387\n",
       "Seattle                        339             317\n",
       "South Bend, Indiana            379             167\n",
       "Miami                          268             273\n",
       "Dallas–Ft. Worth               288             274"
      ]
     },
     "execution_count": 87,
     "metadata": {},
     "output_type": "execute_result"
    }
   ],
   "source": [
    "## Sample data For above Problem\n",
    "Airline_Data = pd.read_csv('D:\\Data for Preprocessing\\Airline Data - Updated.csv', index_col= 0)\n",
    "Airline_Data"
   ]
  },
  {
   "cell_type": "code",
   "execution_count": 88,
   "metadata": {},
   "outputs": [],
   "source": [
    "Dayton_Flight = list(Airline_Data['Dayton ($)'])\n",
    "Lousiville_Flight = list(Airline_Data['Lousiville ($)'])"
   ]
  },
  {
   "cell_type": "code",
   "execution_count": 89,
   "metadata": {},
   "outputs": [
    {
     "name": "stdout",
     "output_type": "stream",
     "text": [
      "t-statistic: 1.3206126728426062\n",
      "p-value: 0.11408375306699065\n"
     ]
    }
   ],
   "source": [
    "t_statistic, p_value = stats.ttest_rel(Dayton_Flight, Lousiville_Flight, alternative = 'greater')\n",
    "print(\"t-statistic:\", t_statistic)\n",
    "print(\"p-value:\", p_value)"
   ]
  },
  {
   "attachments": {},
   "cell_type": "markdown",
   "metadata": {},
   "source": [
    "    As p-value is More than than Alpha (0.05), Therefore we don't reject the Null Hypothesis.\n",
    "\n",
    "    To conclude this, based on the sample data, we do not have enough evidence to support the researcher's argument \n",
    "    that it is significantly more costly to fly out of Dayton than Louisville."
   ]
  },
  {
   "cell_type": "code",
   "execution_count": null,
   "metadata": {},
   "outputs": [],
   "source": []
  },
  {
   "cell_type": "markdown",
   "metadata": {},
   "source": [
    "### Inferences About the Difference Between Two Population Proportion"
   ]
  },
  {
   "cell_type": "markdown",
   "metadata": {},
   "source": [
    "An American Automobile Association (AAA) study investigated the question of whether a\n",
    "man or a woman was more likely to stop and ask for directions (AAA, January 2006). The\n",
    "situation referred to in the study stated the following: “If you and your spouse are driving\n",
    "together and become lost, would you stop and ask for directions?” A sample representative\n",
    "of the data used by AAA showed 300 of 811 women said that they would stop and ask for\n",
    "directions, while 255 of 750 men said that they would stop and ask for directions. \n",
    "\n",
    "a. The AAA research hypothesis was that women would be more likely to say that they\n",
    "would stop and ask for directions. Formulate the null and alternative hypotheses for\n",
    "this study.\n",
    "\n",
    "b. What is the percentage of women who indicated that they would stop and ask for\n",
    "directions?\n",
    "\n",
    "c. What is the percentage of men who indicated that they would stop and ask for\n",
    "directions?\n",
    "\n",
    "d. At α = .05, test the hypothesis. What is the p-value, and what conclusion would you\n",
    "expect AAA to draw from this study? "
   ]
  },
  {
   "cell_type": "markdown",
   "metadata": {},
   "source": [
    "    Ans (a) Null hypothesis (H0): There is no difference between the proportion of women and men who would stop and ask for directions. (p_women = p_men)\n",
    "    \n",
    "            Alternative hypothesis (Ha): Women are more likely to say that they would stop and ask for directions than men. (p_women > p_men)\n",
    "\n"
   ]
  },
  {
   "cell_type": "code",
   "execution_count": 90,
   "metadata": {},
   "outputs": [
    {
     "name": "stdout",
     "output_type": "stream",
     "text": [
      "Percentage of women who would stop and ask for directions: 37.5\n",
      "Percentage of men who would stop and ask for directions: 34.0\n"
     ]
    }
   ],
   "source": [
    "# Ans(b)and (c) According to the Data \n",
    "# P_Women = 300, P_Men = 255, n_Women = 800, n_Men = 750\n",
    "Percentage_of_Women = (300/800)*100\n",
    "Percantage_of_Men = (255/750)*100\n",
    "print(\"Percentage of women who would stop and ask for directions:\", Percentage_of_Women)\n",
    "print(\"Percentage of men who would stop and ask for directions:\", Percantage_of_Men)\n"
   ]
  },
  {
   "cell_type": "markdown",
   "metadata": {},
   "source": [
    "    Ans (b)  Percentage of women who would stop and ask for directions: \"37.5\"\n",
    "    Ans (c)  Percentage of men who would stop and ask for directions: \"34.0\""
   ]
  },
  {
   "cell_type": "code",
   "execution_count": 94,
   "metadata": {},
   "outputs": [
    {
     "name": "stdout",
     "output_type": "stream",
     "text": [
      "Z-score: 1.235095870918692\n",
      "P-value: 0.10839741297376726\n",
      "The p-value is greater than alpha. AAA would likely fail to reject the null hypothesis.\n",
      "There is not enough evidence to suggest a difference in asking for directions between women and men.\n"
     ]
    }
   ],
   "source": [
    "# Ans(d)\n",
    "from scipy.stats import norm\n",
    "\n",
    "def two_samp_proportion(p1, p2, n1, n2):\n",
    "    pooled_std_error = np.sqrt((p1 * (1 - p1) / n1) + (p2 * (1 - p2) / n2))\n",
    "    Z_value = (p1 - p2) / pooled_std_error\n",
    "    if Z_value < 0:\n",
    "        p_value = norm.cdf(Z_value)\n",
    "    else:\n",
    "        p_value = 1 - norm.cdf(Z_value)\n",
    "    return Z_value, p_value\n",
    "\n",
    "# Given data\n",
    "women_total = 811\n",
    "women_stop_for_directions = 300\n",
    "\n",
    "men_total = 750\n",
    "men_stop_for_directions = 255\n",
    "\n",
    "# Calculate proportions\n",
    "p_women = women_stop_for_directions / women_total\n",
    "p_men = men_stop_for_directions / men_total\n",
    "\n",
    "# Apply the two-sample proportion test\n",
    "z_score, p_value = two_samp_proportion(p_women, p_men, women_total, men_total)\n",
    "\n",
    "print(\"Z-score:\", z_score)\n",
    "print(\"P-value:\", p_value)\n",
    "\n",
    "# Checking for significance at alpha = 0.05\n",
    "alpha = 0.05\n",
    "if p_value < alpha:\n",
    "    print(\"The p-value is less than alpha. AAA would likely reject the null hypothesis.\")\n",
    "    print(\"There is evidence to suggest that women are more likely to ask for directions.\")\n",
    "else:\n",
    "    print(\"The p-value is greater than alpha. AAA would likely fail to reject the null hypothesis.\")\n",
    "    print(\"There is not enough evidence to suggest a difference in asking for directions between women and men.\")\n"
   ]
  },
  {
   "cell_type": "markdown",
   "metadata": {},
   "source": [
    "    Ans (d) To conclude, \n",
    "            As The p-value is greater than alpha. AAA would likely do not reject the null hypothesis.\n",
    "            There is not enough evidence to suggest a difference in asking for directions between women and men."
   ]
  },
  {
   "cell_type": "code",
   "execution_count": null,
   "metadata": {},
   "outputs": [],
   "source": []
  }
 ],
 "metadata": {
  "kernelspec": {
   "display_name": "base",
   "language": "python",
   "name": "python3"
  },
  "language_info": {
   "codemirror_mode": {
    "name": "ipython",
    "version": 3
   },
   "file_extension": ".py",
   "mimetype": "text/x-python",
   "name": "python",
   "nbconvert_exporter": "python",
   "pygments_lexer": "ipython3",
   "version": "3.9.7"
  },
  "orig_nbformat": 4
 },
 "nbformat": 4,
 "nbformat_minor": 2
}
