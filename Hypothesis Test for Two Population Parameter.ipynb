{
 "cells": [
  {
   "attachments": {},
   "cell_type": "markdown",
   "metadata": {},
   "source": [
    "### Inferences About the Difference Between Two Population Means: σ1 and σ2 Known"
   ]
  },
  {
   "attachments": {},
   "cell_type": "markdown",
   "metadata": {},
   "source": [
    "During the 2003 season, Major League Baseball took steps to speed up the play of baseball games in order to maintain fan interest (CNN Headline News, September 30, 2003).\n",
    "The following results come from a sample of 60 games played during the summer of 2002 and a sample of 50 games played during the summer of 2003. The sample mean shows the\n",
    "mean duration of the games included in each sample.\n",
    "\n",
    "      2002 Season                             2003 Season\n",
    "      n1 = 60                                 n2 = 50 \n",
    "      Sample mean x1 = 172 min                Sample mean x2 = 166 min\n",
    "\n",
    "a. A research hypothesis was that the steps taken during the 2003 season would reduce\n",
    "the population mean duration of baseball games. Formulate the null and alternative\n",
    "hypotheses.\n",
    "\n",
    "b. What is the point estimate of the reduction in the mean duration of games during the\n",
    "2003 season?\n",
    "\n",
    "c. Historical data indicate a population standard deviation of 12 minutes is a reasonable\n",
    "assumption for both years. Conduct the hypothesis test and report the p-value. At a .05\n",
    "level of significance, what is your conclusion?\n",
    "\n",
    "d. Provide a 95% confidence interval estimate of the reduction in the mean duration of\n",
    "games during the 2003 season."
   ]
  },
  {
   "attachments": {},
   "cell_type": "markdown",
   "metadata": {},
   "source": [
    "    Ans (a) Null Hypothesis, Ho = mu1-mu2 = 0, mu1 = mu2, The steps taken during the 2003 season did not reduce the population mean duration of baseball games.\n",
    "    \n",
    "            Alternative Hypothesis, Ha = mu1 > mu2, The steps taken during the 2003 season reduced the population mean duration of baseball games.\n",
    "\n",
    "            So, we need to use Upper Tail Test"
   ]
  },
  {
   "cell_type": "code",
   "execution_count": 56,
   "metadata": {},
   "outputs": [
    {
     "data": {
      "text/plain": [
       "6"
      ]
     },
     "execution_count": 56,
     "metadata": {},
     "output_type": "execute_result"
    }
   ],
   "source": [
    "# Ans(b) \n",
    "#Point Estimate = x1 - x2 \n",
    "Point_Estimate = 172-166\n",
    "Point_Estimate"
   ]
  },
  {
   "attachments": {},
   "cell_type": "markdown",
   "metadata": {},
   "source": [
    "    Ans(b) Point estimate of the reduction in the mean duration of games = 6 min"
   ]
  },
  {
   "cell_type": "code",
   "execution_count": null,
   "metadata": {},
   "outputs": [],
   "source": []
  },
  {
   "cell_type": "code",
   "execution_count": 57,
   "metadata": {},
   "outputs": [],
   "source": [
    "# Import Libraries\n",
    "import pandas as pd\n",
    "import numpy as np\n",
    "import math\n",
    "from scipy import stats\n",
    "from scipy.stats import norm"
   ]
  },
  {
   "cell_type": "code",
   "execution_count": 58,
   "metadata": {},
   "outputs": [],
   "source": [
    "# Define a function to calculate Z and P value\n",
    "def Z_and_p(x1, x2, Sigma1, Sigma2, n1, n2):\n",
    "    z = (x1-x2)/(math.sqrt(((Sigma1**2)/n1)+ ((Sigma2**2)/n2)))\n",
    "    if(z < 0):\n",
    "        p = stats.norm.cdf(z)\n",
    "    else:\n",
    "        p = 1-stats.norm.cdf(z)\n",
    "    print(z,p)"
   ]
  },
  {
   "cell_type": "code",
   "execution_count": 59,
   "metadata": {},
   "outputs": [
    {
     "name": "stdout",
     "output_type": "stream",
     "text": [
      "2.611164839335468 0.00451171940904016\n"
     ]
    }
   ],
   "source": [
    "# Ans(c) Calculate value for Z and p for given value\n",
    "# x1 = 172 min, x2 = 166 min, Sigma1 = Sigma2 = 12 min, n1 = 60, n2 = 50\n",
    "Z_and_p(172,166,12,12,60,50)"
   ]
  },
  {
   "attachments": {},
   "cell_type": "markdown",
   "metadata": {},
   "source": [
    "    Ans(c) Z = 2.61\n",
    "           p = 0.0045\n",
    "\n",
    "    Since, p value is less than the Level of Significance (0.05), we reject the null hypothesis and conclude that the steps taken during the 2003 season reduced the population mean duration of baseball games."
   ]
  },
  {
   "cell_type": "code",
   "execution_count": 62,
   "metadata": {},
   "outputs": [],
   "source": [
    "# Define a function to calculate Confidence Interval\n",
    "\n",
    "def Confidence_Interval(x1, x2, sigma, n1, n2, alpha):\n",
    "   \n",
    "    # Calculate the standard error of the difference between the means\n",
    "    std_err = math.sqrt(sigma**2 * (1/n1 + 1/n2))\n",
    "    \n",
    "    # Calculate the z-value for the given significance level\n",
    "    z = norm.ppf(1 - alpha/2)\n",
    "    \n",
    "    # Calculate the margin of error\n",
    "    margin_of_error = z * std_err\n",
    "    \n",
    "    # Calculate the lower and upper bounds of the confidence interval\n",
    "    lower = (x1 - x2) - margin_of_error\n",
    "    upper = (x1 - x2) + margin_of_error\n",
    "    \n",
    "    return (lower, upper)\n"
   ]
  },
  {
   "cell_type": "code",
   "execution_count": 63,
   "metadata": {},
   "outputs": [
    {
     "data": {
      "text/plain": [
       "(1.4963456423405468, 10.503654357659453)"
      ]
     },
     "execution_count": 63,
     "metadata": {},
     "output_type": "execute_result"
    }
   ],
   "source": [
    "# Ans(d) Calculate value for Confidence Interval\n",
    "# x1 = 172 min, x2 = 166 min, Sigma = 12 min, n1 = 60, n2 = 50, alpha = 0.05\n",
    "Confidence_Interval(172,166,12,60,50,0.05)"
   ]
  },
  {
   "attachments": {},
   "cell_type": "markdown",
   "metadata": {},
   "source": [
    "    Ans(d) Lower Limit = 1.49\n",
    "           Upper Limit = 10.50"
   ]
  },
  {
   "attachments": {},
   "cell_type": "markdown",
   "metadata": {},
   "source": []
  },
  {
   "attachments": {},
   "cell_type": "markdown",
   "metadata": {},
   "source": [
    "### Inferences About the Difference Between Two Population Means: σ1 and σ2 Unknown and Assume they are equal"
   ]
  },
  {
   "attachments": {},
   "cell_type": "markdown",
   "metadata": {},
   "source": [
    "Two catalyst are being analyzed to determine how they affect the mean yield of a chemical process. Specifically, catalyst 1 is currently in use, but catalyst 2 is acceptable.\n",
    "Since catalyst 2 is cheaper, it should be adopted, Providing it does not change the Proceess yield.\n",
    "A test is run in the plant and results are shown below.\n",
    "Is there any difference between the mean yields?\n",
    "Use 0.05, and assume equal variances\n",
    "\n",
    "    Observation are :\n",
    "    Catalyst 1 = [91.50, 94.18, 92.18, 95.39, 91.79, 89.07, 94.72, 89.21]\n",
    "    Catalyst 2 = [89.19, 90.95, 90.46, 93.21, 97.19, 97.04, 91.07, 92.75]\n",
    "\n",
    "    \n"
   ]
  },
  {
   "attachments": {},
   "cell_type": "markdown",
   "metadata": {},
   "source": [
    "Solution:\n",
    "\n",
    "Hypothesis Test : \n",
    "The Pameter of Interest are mu1 and mu2, the mean process yield using catalysts 1 and 2, repectively.\n",
    "\n",
    "Null Hypothesis = mu1 - mu2 = 0, mu1 = mu2\n",
    "\n",
    "Alternative Hypothesis = mu != mu2\n",
    "\n",
    "alpha = 0.05\n"
   ]
  },
  {
   "cell_type": "code",
   "execution_count": 3,
   "metadata": {},
   "outputs": [],
   "source": [
    "import scipy.stats as stats"
   ]
  },
  {
   "cell_type": "code",
   "execution_count": 2,
   "metadata": {},
   "outputs": [],
   "source": [
    "Catalyst_1 = [91.50, 94.18, 92.18, 95.39, 91.79, 89.07, 94.72, 89.21]\n",
    "Catalyst_2 = [89.19, 90.95, 90.46, 93.21, 97.19, 97.04, 91.07, 92.75]"
   ]
  },
  {
   "cell_type": "code",
   "execution_count": 4,
   "metadata": {},
   "outputs": [
    {
     "data": {
      "text/plain": [
       "Ttest_indResult(statistic=-0.3535908643461798, pvalue=0.7289136186068217)"
      ]
     },
     "execution_count": 4,
     "metadata": {},
     "output_type": "execute_result"
    }
   ],
   "source": [
    "stats.ttest_ind(Catalyst_1, Catalyst_2, equal_var = True)"
   ]
  },
  {
   "attachments": {},
   "cell_type": "markdown",
   "metadata": {},
   "source": [
    "    t-test = -0.35\n",
    "    p-value = 0.72\n",
    "    Conclusion : As p-value is more than alpha value, Null hypothesis cannot be rejected.\n",
    "    Therefore, we do not have strong evidence to conclude that catalyst 2 results in a mean yield that differs from the mean yield when catalyst 1 is used.\n",
    "    \n"
   ]
  },
  {
   "cell_type": "code",
   "execution_count": null,
   "metadata": {},
   "outputs": [],
   "source": []
  }
 ],
 "metadata": {
  "kernelspec": {
   "display_name": "base",
   "language": "python",
   "name": "python3"
  },
  "language_info": {
   "codemirror_mode": {
    "name": "ipython",
    "version": 3
   },
   "file_extension": ".py",
   "mimetype": "text/x-python",
   "name": "python",
   "nbconvert_exporter": "python",
   "pygments_lexer": "ipython3",
   "version": "3.9.7"
  },
  "orig_nbformat": 4
 },
 "nbformat": 4,
 "nbformat_minor": 2
}
